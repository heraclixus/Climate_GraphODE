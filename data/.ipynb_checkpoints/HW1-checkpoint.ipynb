{
 "cells": [
  {
   "cell_type": "markdown",
   "id": "68a3de6b-a09b-4667-a7c3-aa161fdcb1b0",
   "metadata": {},
   "source": [
    "## Problem 1\n",
    "If the total solar irradiance increases from 1360.8 W/m2 at solar minimum to 1362.3 W/m2 at solar maximum, how much does the emission temperature of Earth change between solar minimum and solar maximum? For this exercise assume Earth’s albedo is 0.3."
   ]
  },
  {
   "cell_type": "markdown",
   "id": "959d0333-2c6c-432a-aa08-4252edc8af75",
   "metadata": {},
   "source": [
    "In this case we use the Stefan-Boltzmann Law together with the albedo value $\\alpha$ to calculate the temperature, with only 1/4 of surface area since the earth only faces the sun on one side and we take a projection to a disk: \n",
    "$$\n",
    "T = \\left( \\frac{S(1-\\alpha)}{4\\sigma} \\right)^{1/4}\n",
    "$$\n",
    "\n",
    "where $\\sigma$ is the Stefan-Boltzmann constant, $\\alpha$ is the albedo value, and $S$ is the total solar irradiance value. We then calculuate two different temperature values and compute the temperature difference in temperature:"
   ]
  },
  {
   "cell_type": "code",
   "execution_count": 3,
   "id": "5b348469-62f4-45ea-ab02-a6138894b7a8",
   "metadata": {},
   "outputs": [
    {
     "name": "stdout",
     "output_type": "stream",
     "text": [
      "temperature change = 0.07012336741502168\n"
     ]
    }
   ],
   "source": [
    "import numpy as np\n",
    "sigma = 5.67037 * 10e-9\n",
    "\n",
    "\n",
    "def calculate_temp(albedo, irradiance):\n",
    "    return (irradiance * (1-albedo)/(4*sigma)) ** (1/4)\n",
    "\n",
    "\n",
    "delta_temp = calculate_temp(0.3, 1362.3) - calculate_temp(0.3, 1360.8)\n",
    "print(f\"temperature change = {delta_temp}\")"
   ]
  },
  {
   "cell_type": "markdown",
   "id": "1c043538-5112-4a5b-b063-df6e821de240",
   "metadata": {},
   "source": [
    "## Problem 2\n",
    "- (a) Calculate the emission temperatures of Jupiter. The luminosity of the Sun is $L_o=3.9×10^{26}$ 𝑊. The average distance between the Sun and Jupiter is 7.78×108km. The planetary albedo of Jupiter is 0.34. \n",
    "- (b) The actual emission temperature of Jupiter is about 124 K. How must you explain the difference between the number you obtain for Jupiter and 124 K? Note that emission temperature is not the same as surface temperature, so the answer is not greenhouse effect. Hint: consider the planetary energy balance using the outgoing long wave emission at 124 K."
   ]
  },
  {
   "cell_type": "markdown",
   "id": "187b8fd6-5652-441e-9aff-0a84c3ae70f6",
   "metadata": {},
   "source": [
    "### (a) \n",
    "For part (a), the solar flux can be calculated by $S = L_o / (4\\pi d^2)$ and then we can use the Stefan-Boltzmann law to calculate the emission temperature."
   ]
  },
  {
   "cell_type": "code",
   "execution_count": 5,
   "id": "e206b7f1-a057-4844-816c-4b8e551aca47",
   "metadata": {},
   "outputs": [
    {
     "name": "stdout",
     "output_type": "stream",
     "text": [
      "emission temperature of jupiter = 110.52029202377105 Kelvin.\n"
     ]
    }
   ],
   "source": [
    "# part (a)\n",
    "import math\n",
    "L_o = 3.9 * (10 ** 26)\n",
    "d = 7.78 * (10 ** 11)\n",
    "S = L_o / (4 * math.pi * (d ** 2))\n",
    "T = calculate_temp(albedo=0.34, irradiance=S)\n",
    "print(f\"emission temperature of jupiter = {T} Kelvin.\")"
   ]
  },
  {
   "cell_type": "markdown",
   "id": "ad272884-e7c3-473b-bc18-bf495c272ce9",
   "metadata": {},
   "source": [
    "### (b)\n",
    "In this case, because of energy balance, the additional flux must come from the longwave radiation from jupiter's core. This long wave radiation should account for the ~14K in the different. "
   ]
  },
  {
   "cell_type": "markdown",
   "id": "5976d53f-19d9-44e1-acb1-c92ffde018d3",
   "metadata": {},
   "source": [
    "## Problem 3\n",
    "Solve the one-layer radiative equilibrium model for the atmosphere-Earth system. Assume that the surface emissivity is 1, and that the atmosphere has an emissivity (absorptivity) of $\\epsilon =0.9$. Also, assume that the atmosphere is transparent to short wave radiation, and that the surface absorbs $S_o/4(1-\\alpha)$ in the shortwave, where $\\alpha=0.3$ and $S_o=1360𝑊/𝑚^2$."
   ]
  },
  {
   "attachments": {},
   "cell_type": "markdown",
   "id": "342726b5-92b3-48e7-91d3-4fb73c4419ab",
   "metadata": {},
   "source": [
    "### (a) \n",
    "show a diagram of this energy balance model. \n",
    "\n",
    "This energy balance model can be found in slide 2 page 31, but we need to modify the atmosphere energy to be $\\epsilon \\sigma T_A^4$: ![](p3.png)"
   ]
  },
  {
   "cell_type": "markdown",
   "id": "fafa505c-810b-4e83-ac7c-d196d3a3d47b",
   "metadata": {},
   "source": [
    "### (b)\n",
    "Show the energy balance equations for the surface, the atmosphere, and the top of the atmosphere (TOA), and solve for the temperature at the surface and at the atmospheric layer.\n",
    "\n",
    "The energy balance for the surface is:\n",
    "$$\\frac{S_o(1-\\alpha)}{4} + \\epsilon \\sigma T_A^4  = \\sigma T_s^4$$\n",
    "\n",
    "The energy balance for the top of the atmosphere is:\n",
    "$$ \\frac{S_o(1-\\alpha)}{4} = \\epsilon \\sigma T_A^4$$\n",
    "\n",
    "The energy balance for the Atmosphere is:\n",
    "$$\\sigma T_s^4 =  2 \\epsilon \\sigma T_A^4$$\n"
   ]
  },
  {
   "cell_type": "code",
   "execution_count": 9,
   "id": "e8994ad2-4fc9-4e26-bca1-85aff0ee09dc",
   "metadata": {},
   "outputs": [
    {
     "name": "stdout",
     "output_type": "stream",
     "text": [
      "Temperature at atmosphere = 261.32488163705335; temperature at surface = 302.6905682215808\n"
     ]
    }
   ],
   "source": [
    "# solve for the the temperature\n",
    "S_o = 1360\n",
    "alpha = 0.3\n",
    "epsilon = 0.9\n",
    "\n",
    "T_A = ((S_o * (1-alpha) / 4) / (epsilon * sigma)) ** (1/4)\n",
    "T_S = (2 * epsilon * (T_A ** 4)) ** (1/4)\n",
    "print(f\"Temperature at atmosphere = {T_A}; temperature at surface = {T_S}\")"
   ]
  },
  {
   "cell_type": "markdown",
   "id": "41d24011-acb5-4a2a-b5eb-038f4f2f2a0f",
   "metadata": {},
   "source": [
    "In celcius then we have surface temperature of $28.5^{\\circ}C$"
   ]
  },
  {
   "cell_type": "markdown",
   "id": "ccfce207-0b0e-4ed7-a8d3-3b576f4c6e6a",
   "metadata": {},
   "source": [
    "### (c) \n",
    "How does the surface temperature compare with the radiative equilibrium model we did in class in which the atmosphere has an emissivity of 1?"
   ]
  },
  {
   "cell_type": "markdown",
   "id": "b7b3d091-73ac-40d8-8d74-cfa341183f75",
   "metadata": {},
   "source": [
    "In class the surface temperature is slightly higher temperature of $30^{\\circ}$ Celcius. This is slightly higher than part (b). This is because with an emissibility of 0.9, the atmosphere radiates less energy to the surface of the earth, resulting lower temperature in our case."
   ]
  },
  {
   "cell_type": "markdown",
   "id": "a799e950-0f75-426a-9578-7430cd77ebee",
   "metadata": {},
   "source": [
    "## Problem 4 \n",
    "Explain the effects of clouds for the radiation at the top of the atmosphere (e.g., radiative cooling or radiative warming) in comparison with the clear sky condition for the two situations:"
   ]
  },
  {
   "cell_type": "markdown",
   "id": "54bc62a8-957e-42ff-81fc-b48cef5ed8c3",
   "metadata": {},
   "source": [
    "### (a) \n",
    "a cloud extending from the ground to the tropopause in the tropics.\n",
    "\n",
    "In this case, \n",
    "\n",
    "\n",
    "### (b) \n",
    "\n",
    "a low thick cloud over the ocean off the coast of California. Make sure to discuss the effects of clouds on both SW and LW and refer to relevant equations when appropriate.\n",
    "\n",
    "\n",
    "In this case "
   ]
  },
  {
   "cell_type": "code",
   "execution_count": null,
   "id": "9ccb83f8-c466-4405-88c7-192d718522eb",
   "metadata": {},
   "outputs": [],
   "source": []
  }
 ],
 "metadata": {
  "kernelspec": {
   "display_name": "Python 3 (ipykernel)",
   "language": "python",
   "name": "python3"
  },
  "language_info": {
   "codemirror_mode": {
    "name": "ipython",
    "version": 3
   },
   "file_extension": ".py",
   "mimetype": "text/x-python",
   "name": "python",
   "nbconvert_exporter": "python",
   "pygments_lexer": "ipython3",
   "version": "3.12.4"
  }
 },
 "nbformat": 4,
 "nbformat_minor": 5
}
